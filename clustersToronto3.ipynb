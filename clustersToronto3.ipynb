{
 "cells": [
  {
   "cell_type": "markdown",
   "metadata": {},
   "source": [
    "# Segmenting and Clustering Neighborhoods in Toronto"
   ]
  },
  {
   "cell_type": "markdown",
   "metadata": {},
   "source": [
    "## First get the page from Wikipedia\n",
    "\n",
    "For this we will use as suggested **Beautiful Soap**"
   ]
  },
  {
   "cell_type": "markdown",
   "metadata": {},
   "source": [
    "### Install Beautiful Soap in case it is not already installed"
   ]
  },
  {
   "cell_type": "code",
   "execution_count": 1,
   "metadata": {},
   "outputs": [
    {
     "name": "stdout",
     "output_type": "stream",
     "text": [
      "Requirement already satisfied: beautifulsoup4 in /anaconda3/lib/python3.6/site-packages (4.7.1)\n",
      "Requirement already satisfied: soupsieve>=1.2 in /anaconda3/lib/python3.6/site-packages (from beautifulsoup4) (1.7.1)\n"
     ]
    }
   ],
   "source": [
    "!pip install beautifulsoup4"
   ]
  },
  {
   "cell_type": "markdown",
   "metadata": {},
   "source": [
    "### Make some imports"
   ]
  },
  {
   "cell_type": "code",
   "execution_count": 2,
   "metadata": {},
   "outputs": [],
   "source": [
    "import requests\n",
    "import numpy as np\n",
    "import pandas as pd"
   ]
  },
  {
   "cell_type": "markdown",
   "metadata": {},
   "source": [
    "### We use a variable to hold the URL"
   ]
  },
  {
   "cell_type": "code",
   "execution_count": 3,
   "metadata": {},
   "outputs": [],
   "source": [
    "url = 'https://en.wikipedia.org/wiki/List_of_postal_codes_of_Canada:_M'"
   ]
  },
  {
   "cell_type": "markdown",
   "metadata": {},
   "source": [
    "### Retrieve the table\n",
    "\n",
    "The table is retrieved with the remaining page, so we will have to clean it properly\n",
    "\n",
    "**BeautifulSoap** has a function to _prettyfy_ the page"
   ]
  },
  {
   "cell_type": "code",
   "execution_count": 4,
   "metadata": {},
   "outputs": [],
   "source": [
    "page = requests.get(url).text"
   ]
  },
  {
   "cell_type": "code",
   "execution_count": 5,
   "metadata": {},
   "outputs": [],
   "source": [
    "from bs4 import BeautifulSoup\n",
    "soup = BeautifulSoup(page,'lxml')\n",
    "# print(soup.prettify())"
   ]
  },
  {
   "cell_type": "markdown",
   "metadata": {},
   "source": [
    "### Locate the table\n",
    "\n",
    "Looking to the result we see where is the table (the tags) and we retrieve it"
   ]
  },
  {
   "cell_type": "code",
   "execution_count": 6,
   "metadata": {},
   "outputs": [],
   "source": [
    "table = soup.find('table',{'class':'wikitable sortable'})"
   ]
  },
  {
   "cell_type": "markdown",
   "metadata": {},
   "source": [
    "### Loop table\n",
    "\n",
    "#### Loop rows\n",
    "#### And inside cells\n",
    "\n",
    "Adding everything to a dataframe"
   ]
  },
  {
   "cell_type": "code",
   "execution_count": 7,
   "metadata": {},
   "outputs": [],
   "source": [
    "boroughs = []\n",
    "for row in table.findAll(\"tr\"):\n",
    "    arrayrow = []\n",
    "    cells = row.findAll(\"td\")\n",
    "    for cell in cells:\n",
    "        celtext = cell.text.replace('\\n','')\n",
    "        arrayrow.append(celtext)\n",
    "    boroughs.append(arrayrow)\n",
    "\n",
    "df_boroughs = pd.DataFrame(boroughs)\n",
    "df_boroughs.columns = ['PostalCode','Borough','Neighborhood']"
   ]
  },
  {
   "cell_type": "markdown",
   "metadata": {},
   "source": [
    "### Clean\n",
    "\n",
    "### First not assigned\n",
    "\n",
    "When both borough and neighborhood are not assigned drop the row\n",
    "\n",
    "### Then first row, that is empty\n",
    "\n",
    "### Fix neighborhoods\n",
    "\n",
    "To do this we read the borough and set the neighborhood accordingly"
   ]
  },
  {
   "cell_type": "code",
   "execution_count": 8,
   "metadata": {},
   "outputs": [
    {
     "data": {
      "text/html": [
       "<div>\n",
       "<style scoped>\n",
       "    .dataframe tbody tr th:only-of-type {\n",
       "        vertical-align: middle;\n",
       "    }\n",
       "\n",
       "    .dataframe tbody tr th {\n",
       "        vertical-align: top;\n",
       "    }\n",
       "\n",
       "    .dataframe thead th {\n",
       "        text-align: right;\n",
       "    }\n",
       "</style>\n",
       "<table border=\"1\" class=\"dataframe\">\n",
       "  <thead>\n",
       "    <tr style=\"text-align: right;\">\n",
       "      <th></th>\n",
       "      <th>PostalCode</th>\n",
       "      <th>Borough</th>\n",
       "      <th>Neighborhood</th>\n",
       "    </tr>\n",
       "  </thead>\n",
       "  <tbody>\n",
       "    <tr>\n",
       "      <th>0</th>\n",
       "      <td>None</td>\n",
       "      <td>None</td>\n",
       "      <td>None</td>\n",
       "    </tr>\n",
       "    <tr>\n",
       "      <th>1</th>\n",
       "      <td>M1A</td>\n",
       "      <td>Not assigned</td>\n",
       "      <td>Not assigned</td>\n",
       "    </tr>\n",
       "    <tr>\n",
       "      <th>2</th>\n",
       "      <td>M2A</td>\n",
       "      <td>Not assigned</td>\n",
       "      <td>Not assigned</td>\n",
       "    </tr>\n",
       "    <tr>\n",
       "      <th>3</th>\n",
       "      <td>M3A</td>\n",
       "      <td>North York</td>\n",
       "      <td>Parkwoods</td>\n",
       "    </tr>\n",
       "    <tr>\n",
       "      <th>4</th>\n",
       "      <td>M4A</td>\n",
       "      <td>North York</td>\n",
       "      <td>Victoria Village</td>\n",
       "    </tr>\n",
       "  </tbody>\n",
       "</table>\n",
       "</div>"
      ],
      "text/plain": [
       "  PostalCode       Borough      Neighborhood\n",
       "0       None          None              None\n",
       "1        M1A  Not assigned      Not assigned\n",
       "2        M2A  Not assigned      Not assigned\n",
       "3        M3A    North York         Parkwoods\n",
       "4        M4A    North York  Victoria Village"
      ]
     },
     "execution_count": 8,
     "metadata": {},
     "output_type": "execute_result"
    }
   ],
   "source": [
    "df_boroughs.head()"
   ]
  },
  {
   "cell_type": "code",
   "execution_count": 9,
   "metadata": {},
   "outputs": [],
   "source": [
    "df_boroughs.drop(\n",
    "    df_boroughs[(df_boroughs.Borough == 'Not assigned') &\n",
    "                (df_boroughs.Neighborhood == 'Not assigned')].index, inplace=True)"
   ]
  },
  {
   "cell_type": "code",
   "execution_count": 10,
   "metadata": {},
   "outputs": [],
   "source": [
    "df_boroughs = df_boroughs.iloc[1:]"
   ]
  },
  {
   "cell_type": "markdown",
   "metadata": {},
   "source": [
    "##### How many are they?\n",
    "\n",
    "One"
   ]
  },
  {
   "cell_type": "code",
   "execution_count": 11,
   "metadata": {},
   "outputs": [
    {
     "data": {
      "text/html": [
       "<div>\n",
       "<style scoped>\n",
       "    .dataframe tbody tr th:only-of-type {\n",
       "        vertical-align: middle;\n",
       "    }\n",
       "\n",
       "    .dataframe tbody tr th {\n",
       "        vertical-align: top;\n",
       "    }\n",
       "\n",
       "    .dataframe thead th {\n",
       "        text-align: right;\n",
       "    }\n",
       "</style>\n",
       "<table border=\"1\" class=\"dataframe\">\n",
       "  <thead>\n",
       "    <tr style=\"text-align: right;\">\n",
       "      <th></th>\n",
       "      <th>PostalCode</th>\n",
       "      <th>Borough</th>\n",
       "      <th>Neighborhood</th>\n",
       "    </tr>\n",
       "  </thead>\n",
       "  <tbody>\n",
       "    <tr>\n",
       "      <th>9</th>\n",
       "      <td>M7A</td>\n",
       "      <td>Queen's Park</td>\n",
       "      <td>Not assigned</td>\n",
       "    </tr>\n",
       "  </tbody>\n",
       "</table>\n",
       "</div>"
      ],
      "text/plain": [
       "  PostalCode       Borough  Neighborhood\n",
       "9        M7A  Queen's Park  Not assigned"
      ]
     },
     "execution_count": 11,
     "metadata": {},
     "output_type": "execute_result"
    }
   ],
   "source": [
    "df_boroughs[df_boroughs.Neighborhood == 'Not assigned']"
   ]
  },
  {
   "cell_type": "markdown",
   "metadata": {},
   "source": [
    "### Assign Borough name to not assigned neighborhoods\n",
    "\n",
    "This is pretty straightforward, we need just to select those with _Not assigned_ as value add assign the name of the botough"
   ]
  },
  {
   "cell_type": "code",
   "execution_count": 12,
   "metadata": {},
   "outputs": [],
   "source": [
    "df_boroughs.loc[df_boroughs.Neighborhood == 'Not assigned', 'Neighborhood'] = df_boroughs.Borough"
   ]
  },
  {
   "cell_type": "code",
   "execution_count": 13,
   "metadata": {},
   "outputs": [
    {
     "data": {
      "text/html": [
       "<div>\n",
       "<style scoped>\n",
       "    .dataframe tbody tr th:only-of-type {\n",
       "        vertical-align: middle;\n",
       "    }\n",
       "\n",
       "    .dataframe tbody tr th {\n",
       "        vertical-align: top;\n",
       "    }\n",
       "\n",
       "    .dataframe thead th {\n",
       "        text-align: right;\n",
       "    }\n",
       "</style>\n",
       "<table border=\"1\" class=\"dataframe\">\n",
       "  <thead>\n",
       "    <tr style=\"text-align: right;\">\n",
       "      <th></th>\n",
       "      <th>PostalCode</th>\n",
       "      <th>Borough</th>\n",
       "      <th>Neighborhood</th>\n",
       "    </tr>\n",
       "  </thead>\n",
       "  <tbody>\n",
       "    <tr>\n",
       "      <th>3</th>\n",
       "      <td>M3A</td>\n",
       "      <td>North York</td>\n",
       "      <td>Parkwoods</td>\n",
       "    </tr>\n",
       "    <tr>\n",
       "      <th>4</th>\n",
       "      <td>M4A</td>\n",
       "      <td>North York</td>\n",
       "      <td>Victoria Village</td>\n",
       "    </tr>\n",
       "    <tr>\n",
       "      <th>5</th>\n",
       "      <td>M5A</td>\n",
       "      <td>Downtown Toronto</td>\n",
       "      <td>Harbourfront</td>\n",
       "    </tr>\n",
       "    <tr>\n",
       "      <th>6</th>\n",
       "      <td>M5A</td>\n",
       "      <td>Downtown Toronto</td>\n",
       "      <td>Regent Park</td>\n",
       "    </tr>\n",
       "    <tr>\n",
       "      <th>7</th>\n",
       "      <td>M6A</td>\n",
       "      <td>North York</td>\n",
       "      <td>Lawrence Heights</td>\n",
       "    </tr>\n",
       "  </tbody>\n",
       "</table>\n",
       "</div>"
      ],
      "text/plain": [
       "  PostalCode           Borough      Neighborhood\n",
       "3        M3A        North York         Parkwoods\n",
       "4        M4A        North York  Victoria Village\n",
       "5        M5A  Downtown Toronto      Harbourfront\n",
       "6        M5A  Downtown Toronto       Regent Park\n",
       "7        M6A        North York  Lawrence Heights"
      ]
     },
     "execution_count": 13,
     "metadata": {},
     "output_type": "execute_result"
    }
   ],
   "source": [
    "df_boroughs.head()"
   ]
  },
  {
   "cell_type": "markdown",
   "metadata": {},
   "source": [
    "### Group neighborhoods of the same borough\n",
    "\n",
    "This is done by grouping by PostalCode and Borough and applying a join to the neighborhoods separated by commas"
   ]
  },
  {
   "cell_type": "code",
   "execution_count": 14,
   "metadata": {},
   "outputs": [],
   "source": [
    "df_result = df_boroughs.groupby(['PostalCode', 'Borough'])['Neighborhood'].apply(','.join).reset_index()"
   ]
  },
  {
   "cell_type": "code",
   "execution_count": 15,
   "metadata": {},
   "outputs": [
    {
     "data": {
      "text/html": [
       "<div>\n",
       "<style scoped>\n",
       "    .dataframe tbody tr th:only-of-type {\n",
       "        vertical-align: middle;\n",
       "    }\n",
       "\n",
       "    .dataframe tbody tr th {\n",
       "        vertical-align: top;\n",
       "    }\n",
       "\n",
       "    .dataframe thead th {\n",
       "        text-align: right;\n",
       "    }\n",
       "</style>\n",
       "<table border=\"1\" class=\"dataframe\">\n",
       "  <thead>\n",
       "    <tr style=\"text-align: right;\">\n",
       "      <th></th>\n",
       "      <th>PostalCode</th>\n",
       "      <th>Borough</th>\n",
       "      <th>Neighborhood</th>\n",
       "    </tr>\n",
       "  </thead>\n",
       "  <tbody>\n",
       "    <tr>\n",
       "      <th>0</th>\n",
       "      <td>M1B</td>\n",
       "      <td>Scarborough</td>\n",
       "      <td>Rouge,Malvern</td>\n",
       "    </tr>\n",
       "    <tr>\n",
       "      <th>1</th>\n",
       "      <td>M1C</td>\n",
       "      <td>Scarborough</td>\n",
       "      <td>Highland Creek,Rouge Hill,Port Union</td>\n",
       "    </tr>\n",
       "    <tr>\n",
       "      <th>2</th>\n",
       "      <td>M1E</td>\n",
       "      <td>Scarborough</td>\n",
       "      <td>Guildwood,Morningside,West Hill</td>\n",
       "    </tr>\n",
       "    <tr>\n",
       "      <th>3</th>\n",
       "      <td>M1G</td>\n",
       "      <td>Scarborough</td>\n",
       "      <td>Woburn</td>\n",
       "    </tr>\n",
       "    <tr>\n",
       "      <th>4</th>\n",
       "      <td>M1H</td>\n",
       "      <td>Scarborough</td>\n",
       "      <td>Cedarbrae</td>\n",
       "    </tr>\n",
       "  </tbody>\n",
       "</table>\n",
       "</div>"
      ],
      "text/plain": [
       "  PostalCode      Borough                          Neighborhood\n",
       "0        M1B  Scarborough                         Rouge,Malvern\n",
       "1        M1C  Scarborough  Highland Creek,Rouge Hill,Port Union\n",
       "2        M1E  Scarborough       Guildwood,Morningside,West Hill\n",
       "3        M1G  Scarborough                                Woburn\n",
       "4        M1H  Scarborough                             Cedarbrae"
      ]
     },
     "execution_count": 15,
     "metadata": {},
     "output_type": "execute_result"
    }
   ],
   "source": [
    "df_result.head()"
   ]
  },
  {
   "cell_type": "markdown",
   "metadata": {},
   "source": [
    "## Final results\n",
    "\n",
    "The shame is **(103, 3)** meaning there are 103 different postal codes with proper names grouped by borough"
   ]
  },
  {
   "cell_type": "code",
   "execution_count": 16,
   "metadata": {},
   "outputs": [
    {
     "data": {
      "text/plain": [
       "(103, 3)"
      ]
     },
     "execution_count": 16,
     "metadata": {},
     "output_type": "execute_result"
    }
   ],
   "source": [
    "df_result.shape"
   ]
  },
  {
   "cell_type": "markdown",
   "metadata": {},
   "source": [
    "!pip install geocoder"
   ]
  },
  {
   "cell_type": "raw",
   "metadata": {},
   "source": [
    "import geocoder # import geocoder\n",
    "\n",
    "# initialize your variable to None\n",
    "lat_lng_coords = None\n",
    "\n",
    "# loop until you get the coordinates\n",
    "while(lat_lng_coords is None):\n",
    "  g = geocoder.google('{}, Toronto, Ontario'.format(df_result['PostalCode']))\n",
    "  lat_lng_coords = g.latlng\n",
    "\n",
    "latitude = lat_lng_coords[0]\n",
    "longitude = lat_lng_coords[1]"
   ]
  },
  {
   "cell_type": "markdown",
   "metadata": {},
   "source": [
    "### It didn't work\n",
    "\n",
    "So we just load the csv file."
   ]
  },
  {
   "cell_type": "code",
   "execution_count": 17,
   "metadata": {},
   "outputs": [],
   "source": [
    "lat_lng_coords = pd.read_csv('Geospatial_Coordinates.csv')"
   ]
  },
  {
   "cell_type": "markdown",
   "metadata": {},
   "source": [
    "We see that _Postal Code_ has a different name than _PostalCode_ so we just change it"
   ]
  },
  {
   "cell_type": "code",
   "execution_count": 18,
   "metadata": {},
   "outputs": [
    {
     "data": {
      "text/html": [
       "<div>\n",
       "<style scoped>\n",
       "    .dataframe tbody tr th:only-of-type {\n",
       "        vertical-align: middle;\n",
       "    }\n",
       "\n",
       "    .dataframe tbody tr th {\n",
       "        vertical-align: top;\n",
       "    }\n",
       "\n",
       "    .dataframe thead th {\n",
       "        text-align: right;\n",
       "    }\n",
       "</style>\n",
       "<table border=\"1\" class=\"dataframe\">\n",
       "  <thead>\n",
       "    <tr style=\"text-align: right;\">\n",
       "      <th></th>\n",
       "      <th>Postal Code</th>\n",
       "      <th>Latitude</th>\n",
       "      <th>Longitude</th>\n",
       "    </tr>\n",
       "  </thead>\n",
       "  <tbody>\n",
       "    <tr>\n",
       "      <th>0</th>\n",
       "      <td>M1B</td>\n",
       "      <td>43.806686</td>\n",
       "      <td>-79.194353</td>\n",
       "    </tr>\n",
       "    <tr>\n",
       "      <th>1</th>\n",
       "      <td>M1C</td>\n",
       "      <td>43.784535</td>\n",
       "      <td>-79.160497</td>\n",
       "    </tr>\n",
       "    <tr>\n",
       "      <th>2</th>\n",
       "      <td>M1E</td>\n",
       "      <td>43.763573</td>\n",
       "      <td>-79.188711</td>\n",
       "    </tr>\n",
       "    <tr>\n",
       "      <th>3</th>\n",
       "      <td>M1G</td>\n",
       "      <td>43.770992</td>\n",
       "      <td>-79.216917</td>\n",
       "    </tr>\n",
       "    <tr>\n",
       "      <th>4</th>\n",
       "      <td>M1H</td>\n",
       "      <td>43.773136</td>\n",
       "      <td>-79.239476</td>\n",
       "    </tr>\n",
       "  </tbody>\n",
       "</table>\n",
       "</div>"
      ],
      "text/plain": [
       "  Postal Code   Latitude  Longitude\n",
       "0         M1B  43.806686 -79.194353\n",
       "1         M1C  43.784535 -79.160497\n",
       "2         M1E  43.763573 -79.188711\n",
       "3         M1G  43.770992 -79.216917\n",
       "4         M1H  43.773136 -79.239476"
      ]
     },
     "execution_count": 18,
     "metadata": {},
     "output_type": "execute_result"
    }
   ],
   "source": [
    "lat_lng_coords.head()"
   ]
  },
  {
   "cell_type": "markdown",
   "metadata": {},
   "source": [
    "We see that _Postal Code_ has a different name than _PostalCode_ so we just change it"
   ]
  },
  {
   "cell_type": "code",
   "execution_count": 19,
   "metadata": {},
   "outputs": [],
   "source": [
    "lat_lng_coords.rename(columns={'Postal Code': 'PostalCode'}, inplace=True)"
   ]
  },
  {
   "cell_type": "markdown",
   "metadata": {},
   "source": [
    "Now we just merge them"
   ]
  },
  {
   "cell_type": "code",
   "execution_count": 20,
   "metadata": {},
   "outputs": [],
   "source": [
    "df_result = pd.merge(df_result, lat_lng_coords, on='PostalCode')"
   ]
  },
  {
   "cell_type": "markdown",
   "metadata": {},
   "source": [
    "And voilá there we have it"
   ]
  },
  {
   "cell_type": "code",
   "execution_count": 21,
   "metadata": {},
   "outputs": [
    {
     "data": {
      "text/html": [
       "<div>\n",
       "<style scoped>\n",
       "    .dataframe tbody tr th:only-of-type {\n",
       "        vertical-align: middle;\n",
       "    }\n",
       "\n",
       "    .dataframe tbody tr th {\n",
       "        vertical-align: top;\n",
       "    }\n",
       "\n",
       "    .dataframe thead th {\n",
       "        text-align: right;\n",
       "    }\n",
       "</style>\n",
       "<table border=\"1\" class=\"dataframe\">\n",
       "  <thead>\n",
       "    <tr style=\"text-align: right;\">\n",
       "      <th></th>\n",
       "      <th>PostalCode</th>\n",
       "      <th>Borough</th>\n",
       "      <th>Neighborhood</th>\n",
       "      <th>Latitude</th>\n",
       "      <th>Longitude</th>\n",
       "    </tr>\n",
       "  </thead>\n",
       "  <tbody>\n",
       "    <tr>\n",
       "      <th>0</th>\n",
       "      <td>M1B</td>\n",
       "      <td>Scarborough</td>\n",
       "      <td>Rouge,Malvern</td>\n",
       "      <td>43.806686</td>\n",
       "      <td>-79.194353</td>\n",
       "    </tr>\n",
       "    <tr>\n",
       "      <th>1</th>\n",
       "      <td>M1C</td>\n",
       "      <td>Scarborough</td>\n",
       "      <td>Highland Creek,Rouge Hill,Port Union</td>\n",
       "      <td>43.784535</td>\n",
       "      <td>-79.160497</td>\n",
       "    </tr>\n",
       "    <tr>\n",
       "      <th>2</th>\n",
       "      <td>M1E</td>\n",
       "      <td>Scarborough</td>\n",
       "      <td>Guildwood,Morningside,West Hill</td>\n",
       "      <td>43.763573</td>\n",
       "      <td>-79.188711</td>\n",
       "    </tr>\n",
       "    <tr>\n",
       "      <th>3</th>\n",
       "      <td>M1G</td>\n",
       "      <td>Scarborough</td>\n",
       "      <td>Woburn</td>\n",
       "      <td>43.770992</td>\n",
       "      <td>-79.216917</td>\n",
       "    </tr>\n",
       "    <tr>\n",
       "      <th>4</th>\n",
       "      <td>M1H</td>\n",
       "      <td>Scarborough</td>\n",
       "      <td>Cedarbrae</td>\n",
       "      <td>43.773136</td>\n",
       "      <td>-79.239476</td>\n",
       "    </tr>\n",
       "  </tbody>\n",
       "</table>\n",
       "</div>"
      ],
      "text/plain": [
       "  PostalCode      Borough                          Neighborhood   Latitude  \\\n",
       "0        M1B  Scarborough                         Rouge,Malvern  43.806686   \n",
       "1        M1C  Scarborough  Highland Creek,Rouge Hill,Port Union  43.784535   \n",
       "2        M1E  Scarborough       Guildwood,Morningside,West Hill  43.763573   \n",
       "3        M1G  Scarborough                                Woburn  43.770992   \n",
       "4        M1H  Scarborough                             Cedarbrae  43.773136   \n",
       "\n",
       "   Longitude  \n",
       "0 -79.194353  \n",
       "1 -79.160497  \n",
       "2 -79.188711  \n",
       "3 -79.216917  \n",
       "4 -79.239476  "
      ]
     },
     "execution_count": 21,
     "metadata": {},
     "output_type": "execute_result"
    }
   ],
   "source": [
    "df_result.head()"
   ]
  },
  {
   "cell_type": "code",
   "execution_count": 22,
   "metadata": {},
   "outputs": [
    {
     "name": "stdout",
     "output_type": "stream",
     "text": [
      "The geograpical coordinates of Toronto are 43.653963, -79.387207.\n"
     ]
    }
   ],
   "source": [
    "from geopy.geocoders import Nominatim\n",
    "address = 'Toronto, CA'\n",
    "\n",
    "geolocator = Nominatim(user_agent=\"ny_explorer\")\n",
    "location = geolocator.geocode(address)\n",
    "latitude = location.latitude\n",
    "longitude = location.longitude\n",
    "print('The geograpical coordinates of Toronto are {}, {}.'.format(latitude, longitude))"
   ]
  },
  {
   "cell_type": "code",
   "execution_count": 23,
   "metadata": {},
   "outputs": [
    {
     "data": {
      "text/html": [
       "<div style=\"width:100%;\"><div style=\"position:relative;width:100%;height:0;padding-bottom:60%;\"><iframe src=\"data:text/html;charset=utf-8;base64,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\" style=\"position:absolute;width:100%;height:100%;left:0;top:0;border:none !important;\" allowfullscreen webkitallowfullscreen mozallowfullscreen></iframe></div></div>"
      ],
      "text/plain": [
       "<folium.folium.Map at 0x11a4414e0>"
      ]
     },
     "execution_count": 23,
     "metadata": {},
     "output_type": "execute_result"
    }
   ],
   "source": [
    "import folium\n",
    "\n",
    "# create map of Toronto using latitude and longitude values\n",
    "map_toronto = folium.Map(location=[latitude, longitude], zoom_start=11)\n",
    "\n",
    "# add markers to map\n",
    "for lat, lng, borough, neighborhood in zip(df_result['Latitude'], df_result['Longitude'], df_result['Borough'], df_result['Neighborhood']):\n",
    "    label = '{}, {}'.format(neighborhood, borough)\n",
    "    label = folium.Popup(label, parse_html=True)\n",
    "    folium.CircleMarker(\n",
    "        [lat, lng],\n",
    "        radius=6,\n",
    "        popup=label,\n",
    "        color='green',\n",
    "        fill=True,\n",
    "        fill_color='#31ffcc',\n",
    "        fill_opacity=0.6,\n",
    "        parse_html=False).add_to(map_toronto)  \n",
    "    \n",
    "map_toronto"
   ]
  },
  {
   "cell_type": "markdown",
   "metadata": {},
   "source": [
    "Next, we are going to start utilizing the Foursquare API to explore the neighborhoods and segment them."
   ]
  },
  {
   "cell_type": "markdown",
   "metadata": {},
   "source": [
    "#### Define Foursquare Credentials and Version"
   ]
  },
  {
   "cell_type": "code",
   "execution_count": 24,
   "metadata": {},
   "outputs": [
    {
     "name": "stdout",
     "output_type": "stream",
     "text": [
      "Your credentails:\n",
      "CLIENT_ID: 13UICRQSJWVMKWXWJTT0TRQJMK4K3MF2EROEVPBGRMPBZ4VD\n",
      "CLIENT_SECRET:0J4P5ZL5E4KMFIHJRYWTS0QJAFWNXKMWNFURVKGQIGVNZFMI\n"
     ]
    }
   ],
   "source": [
    "CLIENT_ID = '13UICRQSJWVMKWXWJTT0TRQJMK4K3MF2EROEVPBGRMPBZ4VD' # your Foursquare ID\n",
    "CLIENT_SECRET = '0J4P5ZL5E4KMFIHJRYWTS0QJAFWNXKMWNFURVKGQIGVNZFMI' # your Foursquare Secret\n",
    "VERSION = '20180605' # Foursquare API version\n",
    "\n",
    "print('Your credentails:')\n",
    "print('CLIENT_ID: ' + CLIENT_ID)\n",
    "print('CLIENT_SECRET:' + CLIENT_SECRET)"
   ]
  },
  {
   "cell_type": "code",
   "execution_count": 25,
   "metadata": {},
   "outputs": [],
   "source": [
    "df_boroughs = pd.merge(df_boroughs, lat_lng_coords, on='PostalCode')"
   ]
  },
  {
   "cell_type": "markdown",
   "metadata": {},
   "source": [
    "\n",
    "We create a dataframe with the neigborhoods containing letter _a_"
   ]
  },
  {
   "cell_type": "code",
   "execution_count": 26,
   "metadata": {},
   "outputs": [],
   "source": [
    "df_toronto = df_boroughs[df_boroughs['Neighborhood'].str.contains(\"Toronto\")]"
   ]
  },
  {
   "cell_type": "code",
   "execution_count": 27,
   "metadata": {},
   "outputs": [
    {
     "data": {
      "text/html": [
       "<div>\n",
       "<style scoped>\n",
       "    .dataframe tbody tr th:only-of-type {\n",
       "        vertical-align: middle;\n",
       "    }\n",
       "\n",
       "    .dataframe tbody tr th {\n",
       "        vertical-align: top;\n",
       "    }\n",
       "\n",
       "    .dataframe thead th {\n",
       "        text-align: right;\n",
       "    }\n",
       "</style>\n",
       "<table border=\"1\" class=\"dataframe\">\n",
       "  <thead>\n",
       "    <tr style=\"text-align: right;\">\n",
       "      <th></th>\n",
       "      <th>PostalCode</th>\n",
       "      <th>Borough</th>\n",
       "      <th>Neighborhood</th>\n",
       "      <th>Latitude</th>\n",
       "      <th>Longitude</th>\n",
       "    </tr>\n",
       "  </thead>\n",
       "  <tbody>\n",
       "    <tr>\n",
       "      <th>60</th>\n",
       "      <td>M4J</td>\n",
       "      <td>East York</td>\n",
       "      <td>East Toronto</td>\n",
       "      <td>43.685347</td>\n",
       "      <td>-79.338106</td>\n",
       "    </tr>\n",
       "    <tr>\n",
       "      <th>62</th>\n",
       "      <td>M5J</td>\n",
       "      <td>Downtown Toronto</td>\n",
       "      <td>Toronto Islands</td>\n",
       "      <td>43.640816</td>\n",
       "      <td>-79.381752</td>\n",
       "    </tr>\n",
       "    <tr>\n",
       "      <th>70</th>\n",
       "      <td>M3K</td>\n",
       "      <td>North York</td>\n",
       "      <td>CFB Toronto</td>\n",
       "      <td>43.737473</td>\n",
       "      <td>-79.464763</td>\n",
       "    </tr>\n",
       "    <tr>\n",
       "      <th>75</th>\n",
       "      <td>M5K</td>\n",
       "      <td>Downtown Toronto</td>\n",
       "      <td>Toronto Dominion Centre</td>\n",
       "      <td>43.647177</td>\n",
       "      <td>-79.381576</td>\n",
       "    </tr>\n",
       "    <tr>\n",
       "      <th>130</th>\n",
       "      <td>M4R</td>\n",
       "      <td>Central Toronto</td>\n",
       "      <td>North Toronto West</td>\n",
       "      <td>43.715383</td>\n",
       "      <td>-79.405678</td>\n",
       "    </tr>\n",
       "  </tbody>\n",
       "</table>\n",
       "</div>"
      ],
      "text/plain": [
       "    PostalCode           Borough             Neighborhood   Latitude  \\\n",
       "60         M4J         East York             East Toronto  43.685347   \n",
       "62         M5J  Downtown Toronto          Toronto Islands  43.640816   \n",
       "70         M3K        North York              CFB Toronto  43.737473   \n",
       "75         M5K  Downtown Toronto  Toronto Dominion Centre  43.647177   \n",
       "130        M4R   Central Toronto       North Toronto West  43.715383   \n",
       "\n",
       "     Longitude  \n",
       "60  -79.338106  \n",
       "62  -79.381752  \n",
       "70  -79.464763  \n",
       "75  -79.381576  \n",
       "130 -79.405678  "
      ]
     },
     "execution_count": 27,
     "metadata": {},
     "output_type": "execute_result"
    }
   ],
   "source": [
    "df_toronto.head()"
   ]
  },
  {
   "cell_type": "markdown",
   "metadata": {},
   "source": [
    "### Explore Neighborhoods in Toronto\n"
   ]
  },
  {
   "cell_type": "markdown",
   "metadata": {},
   "source": [
    "#### Let's create a function to repeat the same process to all the neighborhoods in Manhattan"
   ]
  },
  {
   "cell_type": "code",
   "execution_count": 28,
   "metadata": {},
   "outputs": [],
   "source": [
    "def getNearbyVenues(names, latitudes, longitudes, radius=500):\n",
    "    \n",
    "    LIMIT = 100\n",
    "    \n",
    "    venues_list=[]\n",
    "    for name, lat, lng in zip(names, latitudes, longitudes):\n",
    "        print(name)\n",
    "            \n",
    "        # create the API request URL\n",
    "        url = 'https://api.foursquare.com/v2/venues/explore?&client_id={}&client_secret={}&v={}&ll={},{}&radius={}&limit={}'.format(\n",
    "            CLIENT_ID, \n",
    "            CLIENT_SECRET, \n",
    "            VERSION, \n",
    "            lat, \n",
    "            lng, \n",
    "            radius, \n",
    "            LIMIT)\n",
    "            \n",
    "        # make the GET request\n",
    "        results = requests.get(url).json()[\"response\"]['groups'][0]['items']\n",
    "        \n",
    "        # return only relevant information for each nearby venue\n",
    "        venues_list.append([(\n",
    "            name, \n",
    "            lat, \n",
    "            lng, \n",
    "            v['venue']['name'], \n",
    "            v['venue']['location']['lat'], \n",
    "            v['venue']['location']['lng'],  \n",
    "            v['venue']['categories'][0]['name']) for v in results])\n",
    "\n",
    "    nearby_venues = pd.DataFrame([item for venue_list in venues_list for item in venue_list])\n",
    "    nearby_venues.columns = ['Neighborhood', \n",
    "                  'Neighborhood Latitude', \n",
    "                  'Neighborhood Longitude', \n",
    "                  'Venue', \n",
    "                  'Venue Latitude', \n",
    "                  'Venue Longitude', \n",
    "                  'Venue Category']\n",
    "    \n",
    "    return(nearby_venues)"
   ]
  },
  {
   "cell_type": "markdown",
   "metadata": {},
   "source": [
    "#### Now write the code to run the above function on each neighborhood and create a new dataframe called *toronto_venues*."
   ]
  },
  {
   "cell_type": "code",
   "execution_count": 29,
   "metadata": {},
   "outputs": [
    {
     "name": "stdout",
     "output_type": "stream",
     "text": [
      "East Toronto\n",
      "Toronto Islands\n",
      "CFB Toronto\n",
      "Toronto Dominion Centre\n",
      "North Toronto West\n",
      "University of Toronto\n",
      "New Toronto\n"
     ]
    }
   ],
   "source": [
    "toronto_venues = getNearbyVenues(\n",
    "    names=df_toronto['Neighborhood'],\n",
    "    latitudes=df_toronto['Latitude'],\n",
    "    longitudes=df_toronto['Longitude']\n",
    ")"
   ]
  },
  {
   "cell_type": "markdown",
   "metadata": {},
   "source": [
    "#### Let's find out how many unique categories can be curated from all the returned venues"
   ]
  },
  {
   "cell_type": "code",
   "execution_count": 30,
   "metadata": {},
   "outputs": [
    {
     "name": "stdout",
     "output_type": "stream",
     "text": [
      "There are 100 uniques categories.\n"
     ]
    }
   ],
   "source": [
    "print('There are {} uniques categories.'.format(\n",
    "    len(toronto_venues['Venue Category'].unique())))"
   ]
  },
  {
   "cell_type": "markdown",
   "metadata": {},
   "source": [
    "### Analyze Each Neighborhood"
   ]
  },
  {
   "cell_type": "code",
   "execution_count": 31,
   "metadata": {},
   "outputs": [
    {
     "data": {
      "text/html": [
       "<div>\n",
       "<style scoped>\n",
       "    .dataframe tbody tr th:only-of-type {\n",
       "        vertical-align: middle;\n",
       "    }\n",
       "\n",
       "    .dataframe tbody tr th {\n",
       "        vertical-align: top;\n",
       "    }\n",
       "\n",
       "    .dataframe thead th {\n",
       "        text-align: right;\n",
       "    }\n",
       "</style>\n",
       "<table border=\"1\" class=\"dataframe\">\n",
       "  <thead>\n",
       "    <tr style=\"text-align: right;\">\n",
       "      <th></th>\n",
       "      <th>Yoga Studio</th>\n",
       "      <th>Airport</th>\n",
       "      <th>American Restaurant</th>\n",
       "      <th>Aquarium</th>\n",
       "      <th>Art Gallery</th>\n",
       "      <th>Asian Restaurant</th>\n",
       "      <th>Bagel Shop</th>\n",
       "      <th>Bakery</th>\n",
       "      <th>Bank</th>\n",
       "      <th>Bar</th>\n",
       "      <th>...</th>\n",
       "      <th>Steakhouse</th>\n",
       "      <th>Supermarket</th>\n",
       "      <th>Sushi Restaurant</th>\n",
       "      <th>Tea Room</th>\n",
       "      <th>Thai Restaurant</th>\n",
       "      <th>Theater</th>\n",
       "      <th>Train Station</th>\n",
       "      <th>Vegetarian / Vegan Restaurant</th>\n",
       "      <th>Video Game Store</th>\n",
       "      <th>Wine Bar</th>\n",
       "    </tr>\n",
       "  </thead>\n",
       "  <tbody>\n",
       "    <tr>\n",
       "      <th>0</th>\n",
       "      <td>0</td>\n",
       "      <td>0</td>\n",
       "      <td>0</td>\n",
       "      <td>0</td>\n",
       "      <td>0</td>\n",
       "      <td>0</td>\n",
       "      <td>0</td>\n",
       "      <td>0</td>\n",
       "      <td>0</td>\n",
       "      <td>0</td>\n",
       "      <td>...</td>\n",
       "      <td>0</td>\n",
       "      <td>0</td>\n",
       "      <td>0</td>\n",
       "      <td>0</td>\n",
       "      <td>0</td>\n",
       "      <td>0</td>\n",
       "      <td>0</td>\n",
       "      <td>0</td>\n",
       "      <td>0</td>\n",
       "      <td>0</td>\n",
       "    </tr>\n",
       "    <tr>\n",
       "      <th>1</th>\n",
       "      <td>0</td>\n",
       "      <td>0</td>\n",
       "      <td>0</td>\n",
       "      <td>0</td>\n",
       "      <td>0</td>\n",
       "      <td>0</td>\n",
       "      <td>0</td>\n",
       "      <td>0</td>\n",
       "      <td>0</td>\n",
       "      <td>0</td>\n",
       "      <td>...</td>\n",
       "      <td>0</td>\n",
       "      <td>0</td>\n",
       "      <td>0</td>\n",
       "      <td>0</td>\n",
       "      <td>0</td>\n",
       "      <td>0</td>\n",
       "      <td>0</td>\n",
       "      <td>0</td>\n",
       "      <td>0</td>\n",
       "      <td>0</td>\n",
       "    </tr>\n",
       "    <tr>\n",
       "      <th>2</th>\n",
       "      <td>0</td>\n",
       "      <td>0</td>\n",
       "      <td>0</td>\n",
       "      <td>0</td>\n",
       "      <td>0</td>\n",
       "      <td>0</td>\n",
       "      <td>0</td>\n",
       "      <td>0</td>\n",
       "      <td>0</td>\n",
       "      <td>0</td>\n",
       "      <td>...</td>\n",
       "      <td>0</td>\n",
       "      <td>0</td>\n",
       "      <td>0</td>\n",
       "      <td>0</td>\n",
       "      <td>0</td>\n",
       "      <td>0</td>\n",
       "      <td>0</td>\n",
       "      <td>0</td>\n",
       "      <td>0</td>\n",
       "      <td>0</td>\n",
       "    </tr>\n",
       "    <tr>\n",
       "      <th>3</th>\n",
       "      <td>0</td>\n",
       "      <td>0</td>\n",
       "      <td>0</td>\n",
       "      <td>0</td>\n",
       "      <td>0</td>\n",
       "      <td>0</td>\n",
       "      <td>0</td>\n",
       "      <td>0</td>\n",
       "      <td>0</td>\n",
       "      <td>0</td>\n",
       "      <td>...</td>\n",
       "      <td>0</td>\n",
       "      <td>0</td>\n",
       "      <td>0</td>\n",
       "      <td>0</td>\n",
       "      <td>0</td>\n",
       "      <td>0</td>\n",
       "      <td>0</td>\n",
       "      <td>0</td>\n",
       "      <td>0</td>\n",
       "      <td>0</td>\n",
       "    </tr>\n",
       "    <tr>\n",
       "      <th>4</th>\n",
       "      <td>0</td>\n",
       "      <td>0</td>\n",
       "      <td>0</td>\n",
       "      <td>0</td>\n",
       "      <td>0</td>\n",
       "      <td>0</td>\n",
       "      <td>0</td>\n",
       "      <td>0</td>\n",
       "      <td>0</td>\n",
       "      <td>0</td>\n",
       "      <td>...</td>\n",
       "      <td>0</td>\n",
       "      <td>0</td>\n",
       "      <td>0</td>\n",
       "      <td>0</td>\n",
       "      <td>0</td>\n",
       "      <td>0</td>\n",
       "      <td>0</td>\n",
       "      <td>0</td>\n",
       "      <td>0</td>\n",
       "      <td>0</td>\n",
       "    </tr>\n",
       "  </tbody>\n",
       "</table>\n",
       "<p>5 rows × 100 columns</p>\n",
       "</div>"
      ],
      "text/plain": [
       "   Yoga Studio  Airport  American Restaurant  Aquarium  Art Gallery  \\\n",
       "0            0        0                    0         0            0   \n",
       "1            0        0                    0         0            0   \n",
       "2            0        0                    0         0            0   \n",
       "3            0        0                    0         0            0   \n",
       "4            0        0                    0         0            0   \n",
       "\n",
       "   Asian Restaurant  Bagel Shop  Bakery  Bank  Bar  ...  Steakhouse  \\\n",
       "0                 0           0       0     0    0  ...           0   \n",
       "1                 0           0       0     0    0  ...           0   \n",
       "2                 0           0       0     0    0  ...           0   \n",
       "3                 0           0       0     0    0  ...           0   \n",
       "4                 0           0       0     0    0  ...           0   \n",
       "\n",
       "   Supermarket  Sushi Restaurant  Tea Room  Thai Restaurant  Theater  \\\n",
       "0            0                 0         0                0        0   \n",
       "1            0                 0         0                0        0   \n",
       "2            0                 0         0                0        0   \n",
       "3            0                 0         0                0        0   \n",
       "4            0                 0         0                0        0   \n",
       "\n",
       "   Train Station  Vegetarian / Vegan Restaurant  Video Game Store  Wine Bar  \n",
       "0              0                              0                 0         0  \n",
       "1              0                              0                 0         0  \n",
       "2              0                              0                 0         0  \n",
       "3              0                              0                 0         0  \n",
       "4              0                              0                 0         0  \n",
       "\n",
       "[5 rows x 100 columns]"
      ]
     },
     "execution_count": 31,
     "metadata": {},
     "output_type": "execute_result"
    }
   ],
   "source": [
    "# one hot encoding\n",
    "toronto_onehot = pd.get_dummies(toronto_venues[['Venue Category']], prefix=\"\", prefix_sep=\"\")\n",
    "\n",
    "# add neighborhood column back to dataframe\n",
    "toronto_onehot['Neighborhood'] = toronto_venues['Neighborhood'] \n",
    "\n",
    "# move neighborhood column to the first column\n",
    "fixed_columns = [toronto_onehot.columns[-1]] + list(toronto_onehot.columns[:-1])\n",
    "toronto_onehot = toronto_onehot[fixed_columns]\n",
    "\n",
    "toronto_onehot.head()"
   ]
  },
  {
   "cell_type": "markdown",
   "metadata": {},
   "source": [
    "#### Next, let's group rows by neighborhood and by taking the mean of the frequency of occurrence of each category"
   ]
  },
  {
   "cell_type": "code",
   "execution_count": 32,
   "metadata": {},
   "outputs": [
    {
     "data": {
      "text/html": [
       "<div>\n",
       "<style scoped>\n",
       "    .dataframe tbody tr th:only-of-type {\n",
       "        vertical-align: middle;\n",
       "    }\n",
       "\n",
       "    .dataframe tbody tr th {\n",
       "        vertical-align: top;\n",
       "    }\n",
       "\n",
       "    .dataframe thead th {\n",
       "        text-align: right;\n",
       "    }\n",
       "</style>\n",
       "<table border=\"1\" class=\"dataframe\">\n",
       "  <thead>\n",
       "    <tr style=\"text-align: right;\">\n",
       "      <th></th>\n",
       "      <th>Neighborhood</th>\n",
       "      <th>Yoga Studio</th>\n",
       "      <th>Airport</th>\n",
       "      <th>American Restaurant</th>\n",
       "      <th>Aquarium</th>\n",
       "      <th>Art Gallery</th>\n",
       "      <th>Asian Restaurant</th>\n",
       "      <th>Bagel Shop</th>\n",
       "      <th>Bakery</th>\n",
       "      <th>Bank</th>\n",
       "      <th>...</th>\n",
       "      <th>Steakhouse</th>\n",
       "      <th>Supermarket</th>\n",
       "      <th>Sushi Restaurant</th>\n",
       "      <th>Tea Room</th>\n",
       "      <th>Thai Restaurant</th>\n",
       "      <th>Theater</th>\n",
       "      <th>Train Station</th>\n",
       "      <th>Vegetarian / Vegan Restaurant</th>\n",
       "      <th>Video Game Store</th>\n",
       "      <th>Wine Bar</th>\n",
       "    </tr>\n",
       "  </thead>\n",
       "  <tbody>\n",
       "    <tr>\n",
       "      <th>0</th>\n",
       "      <td>CFB Toronto</td>\n",
       "      <td>0.000000</td>\n",
       "      <td>0.25</td>\n",
       "      <td>0.00</td>\n",
       "      <td>0.00</td>\n",
       "      <td>0.00</td>\n",
       "      <td>0.00</td>\n",
       "      <td>0.000000</td>\n",
       "      <td>0.000000</td>\n",
       "      <td>0.00</td>\n",
       "      <td>...</td>\n",
       "      <td>0.00</td>\n",
       "      <td>0.00</td>\n",
       "      <td>0.000000</td>\n",
       "      <td>0.00</td>\n",
       "      <td>0.00</td>\n",
       "      <td>0.000000</td>\n",
       "      <td>0.00</td>\n",
       "      <td>0.00</td>\n",
       "      <td>0.000000</td>\n",
       "      <td>0.00</td>\n",
       "    </tr>\n",
       "    <tr>\n",
       "      <th>1</th>\n",
       "      <td>East Toronto</td>\n",
       "      <td>0.000000</td>\n",
       "      <td>0.00</td>\n",
       "      <td>0.00</td>\n",
       "      <td>0.00</td>\n",
       "      <td>0.00</td>\n",
       "      <td>0.00</td>\n",
       "      <td>0.000000</td>\n",
       "      <td>0.000000</td>\n",
       "      <td>0.00</td>\n",
       "      <td>...</td>\n",
       "      <td>0.00</td>\n",
       "      <td>0.00</td>\n",
       "      <td>0.000000</td>\n",
       "      <td>0.00</td>\n",
       "      <td>0.00</td>\n",
       "      <td>0.000000</td>\n",
       "      <td>0.00</td>\n",
       "      <td>0.00</td>\n",
       "      <td>0.000000</td>\n",
       "      <td>0.00</td>\n",
       "    </tr>\n",
       "    <tr>\n",
       "      <th>2</th>\n",
       "      <td>New Toronto</td>\n",
       "      <td>0.000000</td>\n",
       "      <td>0.00</td>\n",
       "      <td>0.00</td>\n",
       "      <td>0.00</td>\n",
       "      <td>0.00</td>\n",
       "      <td>0.00</td>\n",
       "      <td>0.000000</td>\n",
       "      <td>0.076923</td>\n",
       "      <td>0.00</td>\n",
       "      <td>...</td>\n",
       "      <td>0.00</td>\n",
       "      <td>0.00</td>\n",
       "      <td>0.000000</td>\n",
       "      <td>0.00</td>\n",
       "      <td>0.00</td>\n",
       "      <td>0.000000</td>\n",
       "      <td>0.00</td>\n",
       "      <td>0.00</td>\n",
       "      <td>0.000000</td>\n",
       "      <td>0.00</td>\n",
       "    </tr>\n",
       "    <tr>\n",
       "      <th>3</th>\n",
       "      <td>North Toronto West</td>\n",
       "      <td>0.052632</td>\n",
       "      <td>0.00</td>\n",
       "      <td>0.00</td>\n",
       "      <td>0.00</td>\n",
       "      <td>0.00</td>\n",
       "      <td>0.00</td>\n",
       "      <td>0.052632</td>\n",
       "      <td>0.000000</td>\n",
       "      <td>0.00</td>\n",
       "      <td>...</td>\n",
       "      <td>0.00</td>\n",
       "      <td>0.00</td>\n",
       "      <td>0.000000</td>\n",
       "      <td>0.00</td>\n",
       "      <td>0.00</td>\n",
       "      <td>0.000000</td>\n",
       "      <td>0.00</td>\n",
       "      <td>0.00</td>\n",
       "      <td>0.000000</td>\n",
       "      <td>0.00</td>\n",
       "    </tr>\n",
       "    <tr>\n",
       "      <th>4</th>\n",
       "      <td>Toronto Dominion Centre</td>\n",
       "      <td>0.000000</td>\n",
       "      <td>0.00</td>\n",
       "      <td>0.04</td>\n",
       "      <td>0.00</td>\n",
       "      <td>0.01</td>\n",
       "      <td>0.01</td>\n",
       "      <td>0.000000</td>\n",
       "      <td>0.020000</td>\n",
       "      <td>0.00</td>\n",
       "      <td>...</td>\n",
       "      <td>0.02</td>\n",
       "      <td>0.00</td>\n",
       "      <td>0.000000</td>\n",
       "      <td>0.02</td>\n",
       "      <td>0.01</td>\n",
       "      <td>0.010000</td>\n",
       "      <td>0.01</td>\n",
       "      <td>0.01</td>\n",
       "      <td>0.000000</td>\n",
       "      <td>0.01</td>\n",
       "    </tr>\n",
       "    <tr>\n",
       "      <th>5</th>\n",
       "      <td>Toronto Islands</td>\n",
       "      <td>0.000000</td>\n",
       "      <td>0.00</td>\n",
       "      <td>0.00</td>\n",
       "      <td>0.05</td>\n",
       "      <td>0.01</td>\n",
       "      <td>0.00</td>\n",
       "      <td>0.000000</td>\n",
       "      <td>0.020000</td>\n",
       "      <td>0.01</td>\n",
       "      <td>...</td>\n",
       "      <td>0.01</td>\n",
       "      <td>0.01</td>\n",
       "      <td>0.010000</td>\n",
       "      <td>0.01</td>\n",
       "      <td>0.00</td>\n",
       "      <td>0.010000</td>\n",
       "      <td>0.01</td>\n",
       "      <td>0.01</td>\n",
       "      <td>0.000000</td>\n",
       "      <td>0.01</td>\n",
       "    </tr>\n",
       "    <tr>\n",
       "      <th>6</th>\n",
       "      <td>University of Toronto</td>\n",
       "      <td>0.027778</td>\n",
       "      <td>0.00</td>\n",
       "      <td>0.00</td>\n",
       "      <td>0.00</td>\n",
       "      <td>0.00</td>\n",
       "      <td>0.00</td>\n",
       "      <td>0.000000</td>\n",
       "      <td>0.055556</td>\n",
       "      <td>0.00</td>\n",
       "      <td>...</td>\n",
       "      <td>0.00</td>\n",
       "      <td>0.00</td>\n",
       "      <td>0.027778</td>\n",
       "      <td>0.00</td>\n",
       "      <td>0.00</td>\n",
       "      <td>0.027778</td>\n",
       "      <td>0.00</td>\n",
       "      <td>0.00</td>\n",
       "      <td>0.027778</td>\n",
       "      <td>0.00</td>\n",
       "    </tr>\n",
       "  </tbody>\n",
       "</table>\n",
       "<p>7 rows × 100 columns</p>\n",
       "</div>"
      ],
      "text/plain": [
       "              Neighborhood  Yoga Studio  Airport  American Restaurant  \\\n",
       "0              CFB Toronto     0.000000     0.25                 0.00   \n",
       "1             East Toronto     0.000000     0.00                 0.00   \n",
       "2              New Toronto     0.000000     0.00                 0.00   \n",
       "3       North Toronto West     0.052632     0.00                 0.00   \n",
       "4  Toronto Dominion Centre     0.000000     0.00                 0.04   \n",
       "5          Toronto Islands     0.000000     0.00                 0.00   \n",
       "6    University of Toronto     0.027778     0.00                 0.00   \n",
       "\n",
       "   Aquarium  Art Gallery  Asian Restaurant  Bagel Shop    Bakery  Bank  ...  \\\n",
       "0      0.00         0.00              0.00    0.000000  0.000000  0.00  ...   \n",
       "1      0.00         0.00              0.00    0.000000  0.000000  0.00  ...   \n",
       "2      0.00         0.00              0.00    0.000000  0.076923  0.00  ...   \n",
       "3      0.00         0.00              0.00    0.052632  0.000000  0.00  ...   \n",
       "4      0.00         0.01              0.01    0.000000  0.020000  0.00  ...   \n",
       "5      0.05         0.01              0.00    0.000000  0.020000  0.01  ...   \n",
       "6      0.00         0.00              0.00    0.000000  0.055556  0.00  ...   \n",
       "\n",
       "   Steakhouse  Supermarket  Sushi Restaurant  Tea Room  Thai Restaurant  \\\n",
       "0        0.00         0.00          0.000000      0.00             0.00   \n",
       "1        0.00         0.00          0.000000      0.00             0.00   \n",
       "2        0.00         0.00          0.000000      0.00             0.00   \n",
       "3        0.00         0.00          0.000000      0.00             0.00   \n",
       "4        0.02         0.00          0.000000      0.02             0.01   \n",
       "5        0.01         0.01          0.010000      0.01             0.00   \n",
       "6        0.00         0.00          0.027778      0.00             0.00   \n",
       "\n",
       "    Theater  Train Station  Vegetarian / Vegan Restaurant  Video Game Store  \\\n",
       "0  0.000000           0.00                           0.00          0.000000   \n",
       "1  0.000000           0.00                           0.00          0.000000   \n",
       "2  0.000000           0.00                           0.00          0.000000   \n",
       "3  0.000000           0.00                           0.00          0.000000   \n",
       "4  0.010000           0.01                           0.01          0.000000   \n",
       "5  0.010000           0.01                           0.01          0.000000   \n",
       "6  0.027778           0.00                           0.00          0.027778   \n",
       "\n",
       "   Wine Bar  \n",
       "0      0.00  \n",
       "1      0.00  \n",
       "2      0.00  \n",
       "3      0.00  \n",
       "4      0.01  \n",
       "5      0.01  \n",
       "6      0.00  \n",
       "\n",
       "[7 rows x 100 columns]"
      ]
     },
     "execution_count": 32,
     "metadata": {},
     "output_type": "execute_result"
    }
   ],
   "source": [
    "toronto_g = toronto_onehot.groupby('Neighborhood').mean().reset_index()\n",
    "toronto_g"
   ]
  },
  {
   "cell_type": "markdown",
   "metadata": {},
   "source": [
    "#### Let's put each neighborhood along with the top 5 most common venues into a *pandas* dataframe"
   ]
  },
  {
   "cell_type": "markdown",
   "metadata": {},
   "source": [
    "First, let's write a function to sort the venues in descending order."
   ]
  },
  {
   "cell_type": "code",
   "execution_count": 33,
   "metadata": {},
   "outputs": [],
   "source": [
    "def return_most_common_venues(row, num_top_venues):\n",
    "    row_categories = row.iloc[1:]\n",
    "    row_categories_sorted = row_categories.sort_values(ascending=False)\n",
    "    \n",
    "    return row_categories_sorted.index.values[0:num_top_venues]"
   ]
  },
  {
   "cell_type": "markdown",
   "metadata": {},
   "source": [
    "Now let's create the new dataframe and display the top 10 venues for each neighborhood."
   ]
  },
  {
   "cell_type": "code",
   "execution_count": 34,
   "metadata": {},
   "outputs": [
    {
     "data": {
      "text/html": [
       "<div>\n",
       "<style scoped>\n",
       "    .dataframe tbody tr th:only-of-type {\n",
       "        vertical-align: middle;\n",
       "    }\n",
       "\n",
       "    .dataframe tbody tr th {\n",
       "        vertical-align: top;\n",
       "    }\n",
       "\n",
       "    .dataframe thead th {\n",
       "        text-align: right;\n",
       "    }\n",
       "</style>\n",
       "<table border=\"1\" class=\"dataframe\">\n",
       "  <thead>\n",
       "    <tr style=\"text-align: right;\">\n",
       "      <th></th>\n",
       "      <th>Neighborhood</th>\n",
       "      <th>1st Most Common Venue</th>\n",
       "      <th>2nd Most Common Venue</th>\n",
       "      <th>3rd Most Common Venue</th>\n",
       "      <th>4th Most Common Venue</th>\n",
       "      <th>5th Most Common Venue</th>\n",
       "      <th>6th Most Common Venue</th>\n",
       "      <th>7th Most Common Venue</th>\n",
       "      <th>8th Most Common Venue</th>\n",
       "      <th>9th Most Common Venue</th>\n",
       "      <th>10th Most Common Venue</th>\n",
       "    </tr>\n",
       "  </thead>\n",
       "  <tbody>\n",
       "    <tr>\n",
       "      <th>0</th>\n",
       "      <td>CFB Toronto</td>\n",
       "      <td>Snack Place</td>\n",
       "      <td>Airport</td>\n",
       "      <td>Bus Stop</td>\n",
       "      <td>Park</td>\n",
       "      <td>Wine Bar</td>\n",
       "      <td>College Gym</td>\n",
       "      <td>Comfort Food Restaurant</td>\n",
       "      <td>Concert Hall</td>\n",
       "      <td>Convenience Store</td>\n",
       "      <td>Dance Studio</td>\n",
       "    </tr>\n",
       "    <tr>\n",
       "      <th>1</th>\n",
       "      <td>East Toronto</td>\n",
       "      <td>Coffee Shop</td>\n",
       "      <td>Park</td>\n",
       "      <td>Convenience Store</td>\n",
       "      <td>Discount Store</td>\n",
       "      <td>College Arts Building</td>\n",
       "      <td>College Gym</td>\n",
       "      <td>Comfort Food Restaurant</td>\n",
       "      <td>Concert Hall</td>\n",
       "      <td>Dance Studio</td>\n",
       "      <td>Deli / Bodega</td>\n",
       "    </tr>\n",
       "    <tr>\n",
       "      <th>2</th>\n",
       "      <td>New Toronto</td>\n",
       "      <td>Café</td>\n",
       "      <td>Pharmacy</td>\n",
       "      <td>Sandwich Place</td>\n",
       "      <td>Liquor Store</td>\n",
       "      <td>Restaurant</td>\n",
       "      <td>Fast Food Restaurant</td>\n",
       "      <td>Bakery</td>\n",
       "      <td>Fried Chicken Joint</td>\n",
       "      <td>Gym</td>\n",
       "      <td>Coffee Shop</td>\n",
       "    </tr>\n",
       "    <tr>\n",
       "      <th>3</th>\n",
       "      <td>North Toronto West</td>\n",
       "      <td>Coffee Shop</td>\n",
       "      <td>Sporting Goods Shop</td>\n",
       "      <td>Clothing Store</td>\n",
       "      <td>Chinese Restaurant</td>\n",
       "      <td>Rental Car Location</td>\n",
       "      <td>Salon / Barbershop</td>\n",
       "      <td>Sandwich Place</td>\n",
       "      <td>Mexican Restaurant</td>\n",
       "      <td>Dessert Shop</td>\n",
       "      <td>Park</td>\n",
       "    </tr>\n",
       "    <tr>\n",
       "      <th>4</th>\n",
       "      <td>Toronto Dominion Centre</td>\n",
       "      <td>Coffee Shop</td>\n",
       "      <td>Café</td>\n",
       "      <td>Hotel</td>\n",
       "      <td>American Restaurant</td>\n",
       "      <td>Italian Restaurant</td>\n",
       "      <td>Gastropub</td>\n",
       "      <td>Restaurant</td>\n",
       "      <td>Deli / Bodega</td>\n",
       "      <td>Seafood Restaurant</td>\n",
       "      <td>Steakhouse</td>\n",
       "    </tr>\n",
       "  </tbody>\n",
       "</table>\n",
       "</div>"
      ],
      "text/plain": [
       "              Neighborhood 1st Most Common Venue 2nd Most Common Venue  \\\n",
       "0              CFB Toronto           Snack Place               Airport   \n",
       "1             East Toronto           Coffee Shop                  Park   \n",
       "2              New Toronto                  Café              Pharmacy   \n",
       "3       North Toronto West           Coffee Shop   Sporting Goods Shop   \n",
       "4  Toronto Dominion Centre           Coffee Shop                  Café   \n",
       "\n",
       "  3rd Most Common Venue 4th Most Common Venue  5th Most Common Venue  \\\n",
       "0              Bus Stop                  Park               Wine Bar   \n",
       "1     Convenience Store        Discount Store  College Arts Building   \n",
       "2        Sandwich Place          Liquor Store             Restaurant   \n",
       "3        Clothing Store    Chinese Restaurant    Rental Car Location   \n",
       "4                 Hotel   American Restaurant     Italian Restaurant   \n",
       "\n",
       "  6th Most Common Venue    7th Most Common Venue 8th Most Common Venue  \\\n",
       "0           College Gym  Comfort Food Restaurant          Concert Hall   \n",
       "1           College Gym  Comfort Food Restaurant          Concert Hall   \n",
       "2  Fast Food Restaurant                   Bakery   Fried Chicken Joint   \n",
       "3    Salon / Barbershop           Sandwich Place    Mexican Restaurant   \n",
       "4             Gastropub               Restaurant         Deli / Bodega   \n",
       "\n",
       "  9th Most Common Venue 10th Most Common Venue  \n",
       "0     Convenience Store           Dance Studio  \n",
       "1          Dance Studio          Deli / Bodega  \n",
       "2                   Gym            Coffee Shop  \n",
       "3          Dessert Shop                   Park  \n",
       "4    Seafood Restaurant             Steakhouse  "
      ]
     },
     "execution_count": 34,
     "metadata": {},
     "output_type": "execute_result"
    }
   ],
   "source": [
    "num_top_venues = 10\n",
    "\n",
    "indicators = ['st', 'nd', 'rd']\n",
    "\n",
    "# create columns according to number of top venues\n",
    "columns = ['Neighborhood']\n",
    "for ind in np.arange(num_top_venues):\n",
    "    try:\n",
    "        columns.append('{}{} Most Common Venue'.format(ind+1, indicators[ind]))\n",
    "    except:\n",
    "        columns.append('{}th Most Common Venue'.format(ind+1))\n",
    "\n",
    "# create a new dataframe\n",
    "neighborhoods_venues_sorted = pd.DataFrame(columns=columns)\n",
    "neighborhoods_venues_sorted['Neighborhood'] = toronto_g['Neighborhood']\n",
    "\n",
    "for ind in np.arange(toronto_g.shape[0]):\n",
    "    neighborhoods_venues_sorted.iloc[ind, 1:] = return_most_common_venues(toronto_g.iloc[ind, :], num_top_venues)\n",
    "\n",
    "neighborhoods_venues_sorted.head()"
   ]
  },
  {
   "cell_type": "markdown",
   "metadata": {},
   "source": [
    "## Cluster Neighborhoods"
   ]
  },
  {
   "cell_type": "markdown",
   "metadata": {},
   "source": [
    "Run *k*-means to cluster the neighborhood into 5 clusters."
   ]
  },
  {
   "cell_type": "code",
   "execution_count": 35,
   "metadata": {},
   "outputs": [
    {
     "data": {
      "text/plain": [
       "array([2, 1, 3, 4, 0, 0, 0], dtype=int32)"
      ]
     },
     "execution_count": 35,
     "metadata": {},
     "output_type": "execute_result"
    }
   ],
   "source": [
    "# import k-means from clustering stage\n",
    "from sklearn.cluster import KMeans\n",
    "\n",
    "# set number of clusters\n",
    "kclusters = 5\n",
    "\n",
    "toronto_gc = toronto_g.drop('Neighborhood', 1)\n",
    "\n",
    "# run k-means clustering\n",
    "kmeans = KMeans(n_clusters=kclusters, random_state=0).fit(toronto_gc)\n",
    "\n",
    "# check cluster labels generated for each row in the dataframe\n",
    "kmeans.labels_[0:10] "
   ]
  },
  {
   "cell_type": "markdown",
   "metadata": {},
   "source": [
    "Let's create a new dataframe that includes the cluster as well as the top 10 venues for each neighborhood."
   ]
  },
  {
   "cell_type": "code",
   "execution_count": 36,
   "metadata": {},
   "outputs": [
    {
     "data": {
      "text/html": [
       "<div>\n",
       "<style scoped>\n",
       "    .dataframe tbody tr th:only-of-type {\n",
       "        vertical-align: middle;\n",
       "    }\n",
       "\n",
       "    .dataframe tbody tr th {\n",
       "        vertical-align: top;\n",
       "    }\n",
       "\n",
       "    .dataframe thead th {\n",
       "        text-align: right;\n",
       "    }\n",
       "</style>\n",
       "<table border=\"1\" class=\"dataframe\">\n",
       "  <thead>\n",
       "    <tr style=\"text-align: right;\">\n",
       "      <th></th>\n",
       "      <th>PostalCode</th>\n",
       "      <th>Borough</th>\n",
       "      <th>Neighborhood</th>\n",
       "      <th>Latitude</th>\n",
       "      <th>Longitude</th>\n",
       "      <th>Cluster Labels</th>\n",
       "      <th>1st Most Common Venue</th>\n",
       "      <th>2nd Most Common Venue</th>\n",
       "      <th>3rd Most Common Venue</th>\n",
       "      <th>4th Most Common Venue</th>\n",
       "      <th>5th Most Common Venue</th>\n",
       "      <th>6th Most Common Venue</th>\n",
       "      <th>7th Most Common Venue</th>\n",
       "      <th>8th Most Common Venue</th>\n",
       "      <th>9th Most Common Venue</th>\n",
       "      <th>10th Most Common Venue</th>\n",
       "    </tr>\n",
       "  </thead>\n",
       "  <tbody>\n",
       "    <tr>\n",
       "      <th>60</th>\n",
       "      <td>M4J</td>\n",
       "      <td>East York</td>\n",
       "      <td>East Toronto</td>\n",
       "      <td>43.685347</td>\n",
       "      <td>-79.338106</td>\n",
       "      <td>1</td>\n",
       "      <td>Coffee Shop</td>\n",
       "      <td>Park</td>\n",
       "      <td>Convenience Store</td>\n",
       "      <td>Discount Store</td>\n",
       "      <td>College Arts Building</td>\n",
       "      <td>College Gym</td>\n",
       "      <td>Comfort Food Restaurant</td>\n",
       "      <td>Concert Hall</td>\n",
       "      <td>Dance Studio</td>\n",
       "      <td>Deli / Bodega</td>\n",
       "    </tr>\n",
       "    <tr>\n",
       "      <th>62</th>\n",
       "      <td>M5J</td>\n",
       "      <td>Downtown Toronto</td>\n",
       "      <td>Toronto Islands</td>\n",
       "      <td>43.640816</td>\n",
       "      <td>-79.381752</td>\n",
       "      <td>0</td>\n",
       "      <td>Coffee Shop</td>\n",
       "      <td>Hotel</td>\n",
       "      <td>Aquarium</td>\n",
       "      <td>Italian Restaurant</td>\n",
       "      <td>Café</td>\n",
       "      <td>Brewery</td>\n",
       "      <td>Pizza Place</td>\n",
       "      <td>Fried Chicken Joint</td>\n",
       "      <td>Scenic Lookout</td>\n",
       "      <td>Restaurant</td>\n",
       "    </tr>\n",
       "    <tr>\n",
       "      <th>70</th>\n",
       "      <td>M3K</td>\n",
       "      <td>North York</td>\n",
       "      <td>CFB Toronto</td>\n",
       "      <td>43.737473</td>\n",
       "      <td>-79.464763</td>\n",
       "      <td>2</td>\n",
       "      <td>Snack Place</td>\n",
       "      <td>Airport</td>\n",
       "      <td>Bus Stop</td>\n",
       "      <td>Park</td>\n",
       "      <td>Wine Bar</td>\n",
       "      <td>College Gym</td>\n",
       "      <td>Comfort Food Restaurant</td>\n",
       "      <td>Concert Hall</td>\n",
       "      <td>Convenience Store</td>\n",
       "      <td>Dance Studio</td>\n",
       "    </tr>\n",
       "    <tr>\n",
       "      <th>75</th>\n",
       "      <td>M5K</td>\n",
       "      <td>Downtown Toronto</td>\n",
       "      <td>Toronto Dominion Centre</td>\n",
       "      <td>43.647177</td>\n",
       "      <td>-79.381576</td>\n",
       "      <td>0</td>\n",
       "      <td>Coffee Shop</td>\n",
       "      <td>Café</td>\n",
       "      <td>Hotel</td>\n",
       "      <td>American Restaurant</td>\n",
       "      <td>Italian Restaurant</td>\n",
       "      <td>Gastropub</td>\n",
       "      <td>Restaurant</td>\n",
       "      <td>Deli / Bodega</td>\n",
       "      <td>Seafood Restaurant</td>\n",
       "      <td>Steakhouse</td>\n",
       "    </tr>\n",
       "    <tr>\n",
       "      <th>130</th>\n",
       "      <td>M4R</td>\n",
       "      <td>Central Toronto</td>\n",
       "      <td>North Toronto West</td>\n",
       "      <td>43.715383</td>\n",
       "      <td>-79.405678</td>\n",
       "      <td>4</td>\n",
       "      <td>Coffee Shop</td>\n",
       "      <td>Sporting Goods Shop</td>\n",
       "      <td>Clothing Store</td>\n",
       "      <td>Chinese Restaurant</td>\n",
       "      <td>Rental Car Location</td>\n",
       "      <td>Salon / Barbershop</td>\n",
       "      <td>Sandwich Place</td>\n",
       "      <td>Mexican Restaurant</td>\n",
       "      <td>Dessert Shop</td>\n",
       "      <td>Park</td>\n",
       "    </tr>\n",
       "  </tbody>\n",
       "</table>\n",
       "</div>"
      ],
      "text/plain": [
       "    PostalCode           Borough             Neighborhood   Latitude  \\\n",
       "60         M4J         East York             East Toronto  43.685347   \n",
       "62         M5J  Downtown Toronto          Toronto Islands  43.640816   \n",
       "70         M3K        North York              CFB Toronto  43.737473   \n",
       "75         M5K  Downtown Toronto  Toronto Dominion Centre  43.647177   \n",
       "130        M4R   Central Toronto       North Toronto West  43.715383   \n",
       "\n",
       "     Longitude  Cluster Labels 1st Most Common Venue 2nd Most Common Venue  \\\n",
       "60  -79.338106               1           Coffee Shop                  Park   \n",
       "62  -79.381752               0           Coffee Shop                 Hotel   \n",
       "70  -79.464763               2           Snack Place               Airport   \n",
       "75  -79.381576               0           Coffee Shop                  Café   \n",
       "130 -79.405678               4           Coffee Shop   Sporting Goods Shop   \n",
       "\n",
       "    3rd Most Common Venue 4th Most Common Venue  5th Most Common Venue  \\\n",
       "60      Convenience Store        Discount Store  College Arts Building   \n",
       "62               Aquarium    Italian Restaurant                   Café   \n",
       "70               Bus Stop                  Park               Wine Bar   \n",
       "75                  Hotel   American Restaurant     Italian Restaurant   \n",
       "130        Clothing Store    Chinese Restaurant    Rental Car Location   \n",
       "\n",
       "    6th Most Common Venue    7th Most Common Venue 8th Most Common Venue  \\\n",
       "60            College Gym  Comfort Food Restaurant          Concert Hall   \n",
       "62                Brewery              Pizza Place   Fried Chicken Joint   \n",
       "70            College Gym  Comfort Food Restaurant          Concert Hall   \n",
       "75              Gastropub               Restaurant         Deli / Bodega   \n",
       "130    Salon / Barbershop           Sandwich Place    Mexican Restaurant   \n",
       "\n",
       "    9th Most Common Venue 10th Most Common Venue  \n",
       "60           Dance Studio          Deli / Bodega  \n",
       "62         Scenic Lookout             Restaurant  \n",
       "70      Convenience Store           Dance Studio  \n",
       "75     Seafood Restaurant             Steakhouse  \n",
       "130          Dessert Shop                   Park  "
      ]
     },
     "execution_count": 36,
     "metadata": {},
     "output_type": "execute_result"
    }
   ],
   "source": [
    "# add clustering labels\n",
    "neighborhoods_venues_sorted.insert(0, 'Cluster Labels', kmeans.labels_)\n",
    "\n",
    "toronto = df_toronto\n",
    "\n",
    "# merge toronto_grouped with toronto_data to add latitude/longitude for each neighborhood\n",
    "toronto = toronto.join(neighborhoods_venues_sorted.set_index('Neighborhood'), on='Neighborhood')\n",
    "\n",
    "toronto.head() # check the last columns!"
   ]
  },
  {
   "cell_type": "markdown",
   "metadata": {},
   "source": [
    "Finally, let's visualize the resulting clusters"
   ]
  },
  {
   "cell_type": "code",
   "execution_count": 37,
   "metadata": {},
   "outputs": [
    {
     "data": {
      "text/html": [
       "<div style=\"width:100%;\"><div style=\"position:relative;width:100%;height:0;padding-bottom:60%;\"><iframe src=\"data:text/html;charset=utf-8;base64,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\" style=\"position:absolute;width:100%;height:100%;left:0;top:0;border:none !important;\" allowfullscreen webkitallowfullscreen mozallowfullscreen></iframe></div></div>"
      ],
      "text/plain": [
       "<folium.folium.Map at 0x1a1d7b79b0>"
      ]
     },
     "execution_count": 37,
     "metadata": {},
     "output_type": "execute_result"
    }
   ],
   "source": [
    "# Matplotlib and associated plotting modules\n",
    "import matplotlib.cm as cm\n",
    "import matplotlib.colors as colors\n",
    "\n",
    "# create map\n",
    "map_clusters = folium.Map(location=[latitude, longitude], zoom_start=11)\n",
    "\n",
    "# set color scheme for the clusters\n",
    "x = np.arange(kclusters)\n",
    "ys = [i + x + (i*x)**2 for i in range(kclusters)]\n",
    "colors_array = cm.rainbow(np.linspace(0, 1, len(ys)))\n",
    "rainbow = [colors.rgb2hex(i) for i in colors_array]\n",
    "\n",
    "# add markers to the map\n",
    "markers_colors = []\n",
    "for lat, lon, poi, cluster in zip(toronto['Latitude'], toronto['Longitude'], toronto['Neighborhood'], toronto['Cluster Labels']):\n",
    "    label = folium.Popup(str(poi) + ' Cluster ' + str(cluster), parse_html=True)\n",
    "    folium.CircleMarker(\n",
    "        [lat, lon],\n",
    "        radius=5,\n",
    "        popup=label,\n",
    "        color=rainbow[int(cluster-1)],\n",
    "        fill=True,\n",
    "        fill_color=rainbow[int(cluster-1)],\n",
    "        fill_opacity=0.7).add_to(map_clusters)\n",
    "       \n",
    "map_clusters"
   ]
  }
 ],
 "metadata": {
  "kernelspec": {
   "display_name": "Python 3",
   "language": "python",
   "name": "python3"
  },
  "language_info": {
   "codemirror_mode": {
    "name": "ipython",
    "version": 3
   },
   "file_extension": ".py",
   "mimetype": "text/x-python",
   "name": "python",
   "nbconvert_exporter": "python",
   "pygments_lexer": "ipython3",
   "version": "3.6.8"
  }
 },
 "nbformat": 4,
 "nbformat_minor": 2
}
